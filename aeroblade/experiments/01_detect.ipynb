{
 "cells": [
  {
   "cell_type": "markdown",
   "metadata": {},
   "source": [
    "# Histograms (Figs. 3 and 9)"
   ]
  },
  {
   "cell_type": "code",
   "execution_count": null,
   "metadata": {},
   "outputs": [],
   "source": [
    "%load_ext autoreload\n",
    "%autoreload 2\n",
    "from pathlib import Path\n",
    "\n",
    "import matplotlib.pyplot as plt\n",
    "import pandas as pd\n",
    "from aeroblade.paper import DATASET_ORDER, configure_mpl, get_nice_name, set_figsize\n",
    "\n",
    "configure_mpl()\n",
    "set_figsize()\n",
    "\n",
    "output_dir = Path(\"output/01/default/figures\")\n",
    "output_dir.mkdir(exist_ok=True, parents=True)"
   ]
  },
  {
   "cell_type": "code",
   "execution_count": null,
   "metadata": {},
   "outputs": [],
   "source": [
    "distances = pd.read_parquet(\"output/01/default/distances.parquet\").query(\n",
    "    \"repo_id == 'max'\"\n",
    ")\n",
    "distances[[\"dir\"]] = distances[[\"dir\"]].map(get_nice_name)\n",
    "for distance_metric, df in distances.groupby(\"distance_metric\", observed=True):\n",
    "    for dir in DATASET_ORDER:\n",
    "        plt.hist(-df.query(\"dir == @dir\").distance.values, label=dir, alpha=0.7)\n",
    "    plt.legend()\n",
    "    plt.xlabel(get_nice_name(distance_metric))\n",
    "    plt.ylabel(\"Count\")\n",
    "    plt.savefig(output_dir / f\"hist_{distance_metric}.pdf\")\n",
    "    plt.close()"
   ]
  },
  {
   "cell_type": "markdown",
   "metadata": {},
   "source": [
    "# Detection Performance"
   ]
  },
  {
   "cell_type": "code",
   "execution_count": null,
   "metadata": {},
   "outputs": [],
   "source": [
    "%load_ext autoreload\n",
    "%autoreload 2\n",
    "from pathlib import Path\n",
    "\n",
    "import pandas as pd\n",
    "from aeroblade.paper import DATASET_ORDER, get_nice_name\n",
    "\n",
    "output_dir = Path(\"output/01/default/tables\")\n",
    "output_dir.mkdir(exist_ok=True)"
   ]
  },
  {
   "cell_type": "markdown",
   "metadata": {},
   "source": [
    "## AP (Tab. 1 and part of Tab. 3)"
   ]
  },
  {
   "cell_type": "code",
   "execution_count": null,
   "metadata": {},
   "outputs": [],
   "source": [
    "detection_results = pd.read_csv(\n",
    "    \"output/01/default/detection_results.csv\", index_col=0\n",
    ").drop(columns=[\"transform\", \"tpr5fpr\"])\n",
    "detection_results[[\"fake_dir\", \"repo_id\", \"distance_metric\"]] = detection_results[\n",
    "    [\"fake_dir\", \"repo_id\", \"distance_metric\"]\n",
    "].map(get_nice_name)\n",
    "table = detection_results.pivot(\n",
    "    columns=\"fake_dir\", index=[\"distance_metric\", \"repo_id\"]\n",
    ").droplevel(0, axis=1)\n",
    "table = (\n",
    "    table[DATASET_ORDER[:-1]]\n",
    "    .reindex(index=[\"SD1\", \"SD2\", \"KD2.1\", \"max\"], level=1)\n",
    "    .rename(index={\"max\": \"min\"})\n",
    ")\n",
    "table = table.rename_axis(index=[\"Distance\", \"AE\"], columns=None)\n",
    "table.style.format(precision=3).highlight_max(\n",
    "    axis=\"index\", props=\"textbf:--rwrap;\"\n",
    ").to_latex(output_dir / \"AP.tex\", clines=\"skip-last;data\")"
   ]
  },
  {
   "cell_type": "markdown",
   "metadata": {},
   "source": [
    "## TPR@5%FPR (part of Tab. 3)"
   ]
  },
  {
   "cell_type": "code",
   "execution_count": null,
   "metadata": {},
   "outputs": [],
   "source": [
    "detection_results = pd.read_csv(\n",
    "    \"output/01/default/detection_results.csv\", index_col=0\n",
    ").drop(columns=[\"transform\", \"ap\"])\n",
    "detection_results[[\"fake_dir\", \"repo_id\", \"distance_metric\"]] = detection_results[\n",
    "    [\"fake_dir\", \"repo_id\", \"distance_metric\"]\n",
    "].map(get_nice_name)\n",
    "table = detection_results.pivot(\n",
    "    columns=\"fake_dir\", index=[\"distance_metric\", \"repo_id\"]\n",
    ").droplevel(0, axis=1)\n",
    "table = (\n",
    "    table[DATASET_ORDER[:-1]]\n",
    "    .reindex(index=[\"SD1\", \"SD2\", \"KD2.1\", \"max\"], level=1)\n",
    "    .rename(index={\"max\": \"min\"})\n",
    ")\n",
    "table = table.rename_axis(index=[\"Distance\", \"AE\"], columns=None)\n",
    "table.style.format(precision=3).highlight_max(\n",
    "    axis=\"index\", props=\"textbf:--rwrap;\"\n",
    ").to_latex(output_dir / \"TPR.tex\", clines=\"skip-last;data\")"
   ]
  },
  {
   "cell_type": "markdown",
   "metadata": {},
   "source": [
    "## Attribution (Tabs. 2 and 5)"
   ]
  },
  {
   "cell_type": "code",
   "execution_count": null,
   "metadata": {},
   "outputs": [],
   "source": [
    "attribution_results = pd.read_csv(\n",
    "    \"output/01/default/attribution_results.csv\", index_col=0\n",
    ").drop(columns=[\"transform\"])\n",
    "attribution_results[[\"dir\", \"repo_id\", \"distance_metric\"]] = attribution_results[\n",
    "    [\"dir\", \"repo_id\", \"distance_metric\"]\n",
    "].map(get_nice_name)\n",
    "table = attribution_results.pivot(\n",
    "    columns=\"dir\", index=[\"distance_metric\", \"repo_id\"]\n",
    ").droplevel(0, axis=1)\n",
    "table = table[DATASET_ORDER[:-1]].reindex(index=[\"SD1\", \"SD2\", \"KD2.1\"], level=1)\n",
    "table = table.rename_axis(index=[\"Distance\", \"AE\"], columns=None)\n",
    "table.style.format(precision=3).to_latex(\n",
    "    output_dir / \"attribution.tex\", clines=\"skip-last;data\"\n",
    ")"
   ]
  },
  {
   "cell_type": "markdown",
   "metadata": {},
   "source": [
    "# Distance Metric Ablation (Tab. 4)"
   ]
  },
  {
   "cell_type": "code",
   "execution_count": null,
   "metadata": {},
   "outputs": [],
   "source": [
    "%load_ext autoreload\n",
    "%autoreload 2\n",
    "from pathlib import Path\n",
    "\n",
    "import pandas as pd\n",
    "from aeroblade.paper import DATASET_ORDER, configure_mpl, get_nice_name, set_figsize\n",
    "\n",
    "output_dir = Path(\"output/01/distance_metric_ablation/tables\")\n",
    "output_dir.mkdir(exist_ok=True)"
   ]
  },
  {
   "cell_type": "code",
   "execution_count": null,
   "metadata": {},
   "outputs": [],
   "source": [
    "metric_ablation = (\n",
    "    pd.read_csv(\"output/01/distance_metric_ablation/detection_results.csv\", index_col=0)\n",
    "    .query(\"repo_id == 'max'\")\n",
    "    .drop(columns=[\"repo_id\", \"transform\", \"tpr5fpr\"])\n",
    ")\n",
    "metric_ablation[[\"fake_dir\", \"distance_metric\"]] = metric_ablation[\n",
    "    [\"fake_dir\", \"distance_metric\"]\n",
    "].map(get_nice_name)\n",
    "table = metric_ablation.pivot(columns=\"fake_dir\", index=[\"distance_metric\"]).droplevel(\n",
    "    0, axis=1\n",
    ")\n",
    "table = table[DATASET_ORDER[:-1]]\n",
    "table = table.rename_axis(index=[\"Distance\"], columns=None)\n",
    "table.style.format(precision=3).highlight_max(\n",
    "    axis=\"index\", props=\"textbf:--rwrap;\"\n",
    ").to_latex(output_dir / \"AP.tex\", clines=\"skip-last;data\")"
   ]
  },
  {
   "cell_type": "markdown",
   "metadata": {},
   "source": [
    "# Robustness"
   ]
  },
  {
   "cell_type": "code",
   "execution_count": null,
   "metadata": {},
   "outputs": [],
   "source": [
    "%load_ext autoreload\n",
    "%autoreload 2\n",
    "from pathlib import Path\n",
    "\n",
    "import matplotlib.pyplot as plt\n",
    "import pandas as pd\n",
    "import seaborn as sns\n",
    "from aeroblade.paper import DATASET_ORDER, configure_mpl, get_nice_name, set_figsize\n",
    "\n",
    "configure_mpl()\n",
    "set_figsize(\"single\", factor=0.49, ratio=1.0)\n",
    "\n",
    "output_dir = Path(\"output/01/robustness/figures\")\n",
    "output_dir.mkdir(exist_ok=True)"
   ]
  },
  {
   "cell_type": "code",
   "execution_count": null,
   "metadata": {},
   "outputs": [],
   "source": [
    "robustness_ap = (\n",
    "    pd.read_csv(\"output/01/robustness/detection_results.csv\", index_col=0)\n",
    "    .drop(columns=\"tpr5fpr\")\n",
    "    .query(\"repo_id == 'max'\")\n",
    ")\n",
    "\n",
    "# split transform config into name and parameter\n",
    "transform_split = pd.DataFrame(\n",
    "    robustness_ap[\"transform\"].str.split(\"_\").tolist(),\n",
    "    columns=[\"transform\", \"parameter\"],\n",
    "    index=robustness_ap.index,\n",
    ")\n",
    "transform_split[\"parameter\"] = transform_split[\"parameter\"].astype(float)\n",
    "robustness_ap = pd.concat(\n",
    "    [robustness_ap.drop(columns=\"transform\"), transform_split], axis=1\n",
    ")\n",
    "robustness_ap[[\"fake_dir\", \"repo_id\"]] = robustness_ap[[\"fake_dir\", \"repo_id\"]].map(\n",
    "    get_nice_name\n",
    ")"
   ]
  },
  {
   "cell_type": "markdown",
   "metadata": {},
   "source": [
    "## AP per LPIPS Layer (Figs. 7 and 16-21)"
   ]
  },
  {
   "cell_type": "code",
   "execution_count": null,
   "metadata": {},
   "outputs": [],
   "source": [
    "for distance_metric, dist_df in robustness_ap.groupby(\"distance_metric\"):\n",
    "    clean = dist_df.query(\"transform == 'clean'\")\n",
    "\n",
    "    for transform, label, clean_label in zip(\n",
    "        [\"jpeg\", \"crop\", \"blur\", \"noise\"],\n",
    "        [\"$q$\", \"$f$\", \"$\\sigma$\", \"$\\sigma$\"],\n",
    "        [100, 1.0, 0.0, 0.0],\n",
    "    ):\n",
    "        transformed = dist_df.query(\"transform == @transform\")\n",
    "        clean_ = clean.copy()\n",
    "        clean_.loc[:, \"parameter\"] = clean_label\n",
    "        transformed = pd.concat([transformed, clean_])\n",
    "        sns.lineplot(\n",
    "            data=transformed,\n",
    "            x=\"parameter\",\n",
    "            y=\"ap\",\n",
    "            hue=\"fake_dir\",\n",
    "            marker=\"o\",\n",
    "            markeredgecolor=\"auto\",\n",
    "            legend=transform == \"jpeg\",\n",
    "            hue_order=DATASET_ORDER[:-1],\n",
    "        )\n",
    "        plt.xlabel(label)\n",
    "        plt.ylabel(\"AP\")\n",
    "        plt.ylim(0.3, 1.02)\n",
    "        if transform == \"jpeg\":\n",
    "            plt.legend(ncols=2)\n",
    "            # fix label with q=100\n",
    "            ax = plt.gca()\n",
    "            labels = [item.get_text() for item in ax.get_xticklabels()]\n",
    "            labels[3] = \"w/o\"\n",
    "            ax.set_xticklabels(labels)\n",
    "        if transform in [\"jpeg\", \"crop\"]:\n",
    "            plt.gca().invert_xaxis()\n",
    "        plt.savefig(output_dir / f\"{distance_metric.replace('/', '_')}_{transform}.pdf\")\n",
    "        plt.close()\n",
    "\n",
    "        sns.lineplot(\n",
    "            data=transformed,\n",
    "            x=\"parameter\",\n",
    "            y=\"ap\",\n",
    "            marker=\"o\",\n",
    "            markeredgecolor=\"auto\",\n",
    "            legend=transform == \"jpeg\",\n",
    "            errorbar=lambda x: (x.min(), x.max()),\n",
    "        )\n",
    "        plt.xlabel(label)\n",
    "        plt.ylabel(\"AP\")\n",
    "        plt.ylim(0.3, 1.02)\n",
    "        if transform == \"jpeg\":\n",
    "            # fix label with q=100\n",
    "            ax = plt.gca()\n",
    "            labels = [item.get_text() for item in ax.get_xticklabels()]\n",
    "            labels[3] = \"w/o\"\n",
    "            ax.set_xticklabels(labels)\n",
    "        if transform in [\"jpeg\", \"crop\"]:\n",
    "            plt.gca().invert_xaxis()\n",
    "        plt.savefig(\n",
    "            output_dir / f\"{distance_metric.replace('/', '_')}_{transform}_averaged.pdf\"\n",
    "        )\n",
    "        plt.close()"
   ]
  },
  {
   "cell_type": "markdown",
   "metadata": {},
   "source": [
    "## Best Layer for Each Setting (Fig. 22)"
   ]
  },
  {
   "cell_type": "code",
   "execution_count": null,
   "metadata": {},
   "outputs": [],
   "source": [
    "best_layer_ap = robustness_ap.loc[\n",
    "    robustness_ap.groupby(\n",
    "        [\"fake_dir\", \"transform\", \"parameter\"], as_index=False, sort=False, dropna=False\n",
    "    )\n",
    "    .idxmax()[\"ap\"]\n",
    "    .values\n",
    "].drop(columns=\"distance_metric\")\n",
    "\n",
    "clean = best_layer_ap.query(\"transform == 'clean'\")\n",
    "for transform, label, clean_label in zip(\n",
    "    [\"jpeg\", \"crop\", \"blur\", \"noise\"],\n",
    "    [\"$q$\", \"$f$\", \"$\\sigma$\", \"$\\sigma$\"],\n",
    "    [100, 1.0, 0.0, 0.0],\n",
    "):\n",
    "    transformed = best_layer_ap.query(\"transform == @transform\")\n",
    "    clean_ = clean.copy()\n",
    "    clean_.loc[:, \"parameter\"] = clean_label\n",
    "    transformed = pd.concat([transformed, clean_])\n",
    "    sns.lineplot(\n",
    "        data=transformed,\n",
    "        x=\"parameter\",\n",
    "        y=\"ap\",\n",
    "        marker=\"o\",\n",
    "        markeredgecolor=\"auto\",\n",
    "        legend=transform == \"jpeg\",\n",
    "        errorbar=lambda x: (x.min(), x.max()),\n",
    "    )\n",
    "\n",
    "    plt.xlabel(label)\n",
    "    plt.ylabel(\"AP\")\n",
    "    plt.ylim(0.3, 1.02)\n",
    "    if transform == \"jpeg\":\n",
    "        # fix label with q=100\n",
    "        ax = plt.gca()\n",
    "        labels = [item.get_text() for item in ax.get_xticklabels()]\n",
    "        labels[3] = \"w/o\"\n",
    "        ax.set_xticklabels(labels)\n",
    "    if transform in [\"jpeg\", \"crop\"]:\n",
    "        plt.gca().invert_xaxis()\n",
    "    plt.savefig(output_dir / f\"best_layer_{transform}.pdf\")\n",
    "    plt.close()"
   ]
  }
 ],
 "metadata": {
  "kernelspec": {
   "display_name": ".venv",
   "language": "python",
   "name": "python3"
  },
  "language_info": {
   "codemirror_mode": {
    "name": "ipython",
    "version": 3
   },
   "file_extension": ".py",
   "mimetype": "text/x-python",
   "name": "python",
   "nbconvert_exporter": "python",
   "pygments_lexer": "ipython3",
   "version": "3.10.10"
  }
 },
 "nbformat": 4,
 "nbformat_minor": 2
}

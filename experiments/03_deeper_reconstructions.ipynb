{
 "cells": [
  {
   "cell_type": "markdown",
   "metadata": {},
   "source": [
    "# AP vs Reconstruction Steps"
   ]
  },
  {
   "cell_type": "code",
   "execution_count": 1,
   "metadata": {},
   "outputs": [],
   "source": [
    "%load_ext autoreload\n",
    "%autoreload 2\n",
    "from pathlib import Path\n",
    "\n",
    "import matplotlib.pyplot as plt\n",
    "import pandas as pd\n",
    "import seaborn as sns\n",
    "from aeroblade.paper import configure_mpl, get_nice_name, set_figsize\n",
    "\n",
    "configure_mpl()\n",
    "set_figsize(ratio=0.42)"
   ]
  },
  {
   "cell_type": "code",
   "execution_count": 2,
   "metadata": {},
   "outputs": [],
   "source": [
    "# load \"0 steps\" from robustness experiment\n",
    "zero_steps = pd.read_csv(\"output/01/robustness/detection_results.csv\", index_col=0)\n",
    "zero_steps[[\"fake_dir\", \"repo_id\", \"distance_metric\"]] = zero_steps[\n",
    "    [\"fake_dir\", \"repo_id\", \"distance_metric\"]\n",
    "].map(get_nice_name)\n",
    "zero_steps = zero_steps.query(\n",
    "    \"transform == 'clean' and fake_dir.isin(['SD1.5', 'SD2.1'])\"\n",
    ")\n",
    "zero_steps[\"num_reconstruction_steps\"] = 0\n",
    "zero_sd1_5 = zero_steps.query(\"fake_dir == 'SD1.5' and repo_id == 'SD1'\").drop(\n",
    "    columns=[\"fake_dir\", \"repo_id\", \"transform\", \"tpr5fpr\"]\n",
    ")\n",
    "zero_sd2_1 = zero_steps.query(\"fake_dir == 'SD2.1' and repo_id == 'SD2'\").drop(\n",
    "    columns=[\"fake_dir\", \"repo_id\", \"transform\", \"tpr5fpr\"]\n",
    ")"
   ]
  },
  {
   "cell_type": "code",
   "execution_count": 6,
   "metadata": {},
   "outputs": [],
   "source": [
    "output_dir = Path(\"output/03/figures\")\n",
    "output_dir.mkdir(exist_ok=True, parents=True)\n",
    "\n",
    "sd1_5 = pd.read_csv(\"output/03/deeper_sd15/detection_results.csv\", index_col=0)\n",
    "sd1_5[[\"distance_metric\"]] = sd1_5[[\"distance_metric\"]].map(get_nice_name)\n",
    "sd1_5 = pd.concat([sd1_5, zero_sd1_5])\n",
    "sns.lineplot(\n",
    "    data=sd1_5,\n",
    "    x=\"num_reconstruction_steps\",\n",
    "    y=\"ap\",\n",
    "    hue=\"distance_metric\",\n",
    "    marker=\"o\",\n",
    "    markeredgecolor=\"auto\",\n",
    ")\n",
    "plt.ylim((0.62, 1.01))\n",
    "plt.legend(ncols=2)\n",
    "plt.xlabel(\"$t$\")\n",
    "plt.ylabel(\"AP\")\n",
    "plt.savefig(output_dir / \"sd15.pdf\")\n",
    "plt.close()"
   ]
  },
  {
   "cell_type": "code",
   "execution_count": 7,
   "metadata": {},
   "outputs": [],
   "source": [
    "output_dir = Path(\"output/03/figures\")\n",
    "output_dir.mkdir(exist_ok=True, parents=True)\n",
    "\n",
    "sd2_1 = pd.read_csv(\"output/03/deeper_sd21/detection_results.csv\", index_col=0)\n",
    "sd2_1[[\"distance_metric\"]] = sd2_1[[\"distance_metric\"]].map(get_nice_name)\n",
    "sd2_1 = pd.concat([sd2_1, zero_sd2_1])\n",
    "sns.lineplot(\n",
    "    data=sd2_1,\n",
    "    x=\"num_reconstruction_steps\",\n",
    "    y=\"ap\",\n",
    "    hue=\"distance_metric\",\n",
    "    marker=\"o\",\n",
    "    markeredgecolor=\"auto\",\n",
    ")\n",
    "plt.ylim((0.62, 1.01))\n",
    "plt.legend(ncols=2)\n",
    "plt.xlabel(\"$t$\")\n",
    "plt.ylabel(\"AP\")\n",
    "plt.savefig(output_dir / \"sd21.pdf\")\n",
    "plt.close()"
   ]
  }
 ],
 "metadata": {
  "kernelspec": {
   "display_name": ".venv",
   "language": "python",
   "name": "python3"
  },
  "language_info": {
   "codemirror_mode": {
    "name": "ipython",
    "version": 3
   },
   "file_extension": ".py",
   "mimetype": "text/x-python",
   "name": "python",
   "nbconvert_exporter": "python",
   "pygments_lexer": "ipython3",
   "version": "3.10.10"
  }
 },
 "nbformat": 4,
 "nbformat_minor": 2
}
